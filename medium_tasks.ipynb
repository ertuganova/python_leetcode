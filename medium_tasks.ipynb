{
 "cells": [
  {
   "cell_type": "markdown",
   "metadata": {},
   "source": [
    "# String Compression"
   ]
  },
  {
   "cell_type": "markdown",
   "metadata": {},
   "source": [
    "https://leetcode.com/problems/string-compression/"
   ]
  },
  {
   "cell_type": "markdown",
   "metadata": {},
   "source": [
    "Given an array of characters chars, compress it using the following algorithm:\n",
    "\n",
    "Begin with an empty string s. For each group of consecutive repeating characters in chars:\n",
    "\n",
    "If the group's length is 1, append the character to s.\n",
    "Otherwise, append the character followed by the group's length.\n",
    "The compressed string s should not be returned separately, but instead, be stored in the input character array chars. Note that group lengths that are 10 or longer will be split into multiple characters in chars.\n",
    "\n",
    "After you are done modifying the input array, return the new length of the array.\n",
    "\n",
    "You must write an algorithm that uses only constant extra space.  \n",
    "\n",
    "Input: chars = [\"a\",\"b\",\"b\",\"b\",\"b\",\"b\",\"b\",\"b\",\"b\",\"b\",\"b\",\"b\",\"b\"]  \n",
    "Output: Return 4, and the first 4 characters of the input array should be: [\"a\",\"b\",\"1\",\"2\"].  \n",
    "Explanation: The groups are \"a\" and \"bbbbbbbbbbbb\". This compresses to \"ab12\".  "
   ]
  },
  {
   "cell_type": "code",
   "execution_count": 4,
   "metadata": {},
   "outputs": [],
   "source": [
    "def compress(chars: list) -> int:\n",
    "    chars.append('')\n",
    "    len_chars = len(chars) #3\n",
    "    cnt_index = 0 #2\n",
    "    cnt_groups = 1 #2\n",
    "    for i in range(len_chars-1):\n",
    "        current_letter=chars[i]\n",
    "        if chars[i] == chars[i+1]:\n",
    "            cnt_groups += 1              \n",
    "        else:\n",
    "            if cnt_groups>1:\n",
    "                cnt_index += 1\n",
    "                chars[cnt_index-1] = current_letter\n",
    "                chars[cnt_index:cnt_index+len(list(str(cnt_groups)))] = list(str(cnt_groups))\n",
    "                cnt_index+=(len(list(str(cnt_groups))))\n",
    "            else:\n",
    "                chars[cnt_index] = current_letter\n",
    "                cnt_index +=1\n",
    "            cnt_groups = 1 \n",
    "    chars.pop(len_chars-1)\n",
    "    print(chars[:cnt_index])\n",
    "    return cnt_index"
   ]
  },
  {
   "cell_type": "code",
   "execution_count": 5,
   "metadata": {},
   "outputs": [
    {
     "name": "stdout",
     "output_type": "stream",
     "text": [
      "['a', '2', 'b', '2', 'c', '3']\n"
     ]
    },
    {
     "data": {
      "text/plain": [
       "6"
      ]
     },
     "execution_count": 5,
     "metadata": {},
     "output_type": "execute_result"
    }
   ],
   "source": [
    "chars = [\"a\",\"a\",\"b\",\"b\",\"c\",\"c\",\"c\"]\n",
    "compress(chars)"
   ]
  },
  {
   "cell_type": "markdown",
   "metadata": {},
   "source": [
    "# Longest Substring Without Repeating Characters"
   ]
  },
  {
   "cell_type": "markdown",
   "metadata": {},
   "source": [
    "https://leetcode.com/problems/longest-substring-without-repeating-characters/"
   ]
  },
  {
   "cell_type": "markdown",
   "metadata": {},
   "source": [
    "Given a string s, find the length of the longest substring without repeating characters.  \n",
    "  \n",
    "Input: s = \"abcabcbb\"  \n",
    "Output: 3  \n",
    "Explanation: The answer is \"abc\", with the length of 3.  \n",
    "    \n",
    "Input: s = \"pwwkew\"  \n",
    "Output: 3  \n",
    "Explanation: The answer is \"wke\", with the length of 3.  \n",
    "Notice that the answer must be a substring, \"pwke\" is a subsequence and not a substring.  "
   ]
  },
  {
   "cell_type": "code",
   "execution_count": 234,
   "metadata": {},
   "outputs": [],
   "source": [
    "def lengthOfLongestSubstring(s: str) -> int:\n",
    "    lengths_of_substring = []\n",
    "    if len(s) == 1:\n",
    "        return 1\n",
    "    cnt_lenght = 0\n",
    "    cnt_lenght_all =[]\n",
    "    dict_of_letters = {}\n",
    "    for ind in range(len(s)):\n",
    "        new_list = s[ind:]\n",
    "        for i in new_list:\n",
    "            if i not in dict_of_letters:\n",
    "                dict_of_letters[i]=1\n",
    "                cnt_lenght+=1\n",
    "            else:\n",
    "                dict_of_letters = {}\n",
    "                dict_of_letters[i]=1\n",
    "                cnt_lenght_all.append(cnt_lenght)\n",
    "                cnt_lenght = 1\n",
    "                break\n",
    "            cnt_lenght_all.append(cnt_lenght)\n",
    "        cnt_lenght = 0\n",
    "        dict_of_letters = {}\n",
    "    if cnt_lenght_all == []:\n",
    "        return 0\n",
    "    else:\n",
    "        return max(cnt_lenght_all)"
   ]
  },
  {
   "cell_type": "code",
   "execution_count": 251,
   "metadata": {},
   "outputs": [
    {
     "data": {
      "text/plain": [
       "6"
      ]
     },
     "execution_count": 251,
     "metadata": {},
     "output_type": "execute_result"
    }
   ],
   "source": [
    "lengthOfLongestSubstring(s)"
   ]
  },
  {
   "cell_type": "markdown",
   "metadata": {},
   "source": [
    "# Word search"
   ]
  },
  {
   "cell_type": "markdown",
   "metadata": {},
   "source": [
    "https://leetcode.com/problems/word-search/"
   ]
  },
  {
   "cell_type": "markdown",
   "metadata": {},
   "source": [
    "Given an m x n grid of characters board and a string word, return true if word exists in the grid.  \n",
    "\n",
    "The word can be constructed from letters of sequentially adjacent cells, where adjacent cells are horizontally or vertically neighboring. The same letter cell may not be used more than once   \n",
    "\n",
    "Input: board = [[\"A\",\"B\",\"C\",\"E\"],[\"S\",\"F\",\"C\",\"S\"],[\"A\",\"D\",\"E\",\"E\"]], word = \"ABCCED\"  \n",
    "Output: true  "
   ]
  },
  {
   "cell_type": "markdown",
   "metadata": {},
   "source": [
    "First version, very ugly code"
   ]
  },
  {
   "cell_type": "code",
   "execution_count": 485,
   "metadata": {},
   "outputs": [
    {
     "data": {
      "text/plain": [
       "True"
      ]
     },
     "execution_count": 485,
     "metadata": {},
     "output_type": "execute_result"
    }
   ],
   "source": [
    "def go_right(board, word, i, j,prev_list, k):\n",
    "    if ((i, j+1) not in prev_list):\n",
    "            if ((j+1) < len(board[0])):\n",
    "                if (board[i][j+1] == word[k]):\n",
    "                    if k==len(word)-1:\n",
    "                        return 'found'\n",
    "                    else:\n",
    "#                         prev_list.append((i, j))\n",
    "                        return make_step(board, word, i, j+1, k+1, prev_list)\n",
    "def go_left(board, word, i, j,prev_list, k):\n",
    "     if ((i, j-1) not in prev_list):\n",
    "            if ((j-1) >= 0):\n",
    "                if (board[i][j-1] == word[k]):\n",
    "                    if k==len(word)-1:\n",
    "                        return 'found'\n",
    "                    else:\n",
    "#                         prev_list.append((i, j))\n",
    "                        return make_step(board, word, i, j-1, k+1, prev_list)\n",
    "def go_up(board, word, i, j,prev_list, k):\n",
    "     if ((i-1, j) not in prev_list):\n",
    "            if ((i-1) >= 0):\n",
    "                if (board[i-1][j] == word[k]):\n",
    "                    if k==len(word)-1:\n",
    "                        return 'found'\n",
    "                    else:\n",
    "#                         prev_list.append((i, j))\n",
    "                        return make_step(board, word, i-1, j, k+1, prev_list)\n",
    "def go_down(board, word, i, j,prev_list, k):\n",
    "     if ((i+1, j) not in prev_list):\n",
    "            if ((i+1) <  len(board)):\n",
    "                if (board[i+1][j] == word[k]):\n",
    "                    if k==len(word)-1:\n",
    "                        return 'found'\n",
    "                    else:\n",
    "#                         prev_list.append((i, j))\n",
    "                        return make_step(board, word, i+1, j, k+1, prev_list)\n",
    "\n",
    "def make_step(board, word, i, j, k, prev_list):\n",
    "    while (k < len(word)):\n",
    "        prev_list.append((i, j))\n",
    "        status = go_right(board, word, i, j, prev_list, k)\n",
    "        if status == 'found':\n",
    "            break\n",
    "#         else:\n",
    "#             prev_list = prev_list[:-1]\n",
    "        status = go_left(board, word, i, j, prev_list, k)\n",
    "        if status == 'found':\n",
    "            break\n",
    "#         else:\n",
    "#             prev_list = prev_list[:-1]\n",
    "        status = go_up(board, word, i, j, prev_list, k)\n",
    "        if status == 'found':\n",
    "            break\n",
    "#         else:\n",
    "#             prev_list = prev_list[:-1]\n",
    "        status = go_down(board, word, i, j, prev_list, k)     \n",
    "        if status == 'found':\n",
    "            break\n",
    "#         else:\n",
    "#             prev_list = prev_list[:-1]\n",
    "        prev_list.pop()\n",
    "        return 'not found' \n",
    "    return 'found'\n",
    "        \n",
    "def word_search(board, word):\n",
    "    for i in range(len(board)):\n",
    "        for j in range(len(board[0])):\n",
    "            if board[i][j] == word[0]:       \n",
    "                status = make_step(board, word, i, j, 1, [])\n",
    "                if status == 'found':\n",
    "                    return True\n",
    "                    \n",
    "    return False\n",
    "\n",
    "#word_search([[\"A\",\"B\",\"C\",\"E\"],[\"S\",\"F\",\"C\",\"S\"],[\"A\",\"D\",\"E\",\"E\"]],\"ABCB\")\n",
    "word_search([[\"A\",\"B\",\"C\",\"E\"],[\"S\",\"F\",\"E\",\"S\"],[\"A\",\"D\",\"E\",\"E\"]],\n",
    "\"ABCESEEEFS\")"
   ]
  },
  {
   "cell_type": "markdown",
   "metadata": {},
   "source": [
    "Beautiful version"
   ]
  },
  {
   "cell_type": "code",
   "execution_count": 539,
   "metadata": {},
   "outputs": [],
   "source": [
    "def make_step(board, word, i, j, k, prev_list):\n",
    "    if (i,j) in prev_list:\n",
    "        return False\n",
    "    if (i < 0):\n",
    "        return False\n",
    "    if (j < 0):\n",
    "        return False\n",
    "    if (i>=len(board)):\n",
    "        return False\n",
    "    if (j>=len(board[0])):\n",
    "        return False\n",
    "    if board[i][j] != word[k]:\n",
    "        return False\n",
    "    prev_list.append((i, j))\n",
    "    possible_steps = [(i+1, j), (i-1, j), (i, j+1), (i, j-1)]\n",
    "    for step in possible_steps:\n",
    "        if k == len(word)-1:\n",
    "            return True\n",
    "        else:\n",
    "            found = make_step(board, word, step[0], step[1], k+1, prev_list)\n",
    "            if found:\n",
    "                return True\n",
    "    prev_list.pop()\n",
    "    return False\n",
    "\n",
    "def word_search(board, word):\n",
    "    for i in range(len(board)):\n",
    "        for j in range(len(board[0])):\n",
    "            status = make_step(board, word, i, j, 0, [])\n",
    "            if status:\n",
    "                return True\n",
    "                    \n",
    "    return False"
   ]
  },
  {
   "cell_type": "code",
   "execution_count": 541,
   "metadata": {},
   "outputs": [
    {
     "data": {
      "text/plain": [
       "True"
      ]
     },
     "execution_count": 541,
     "metadata": {},
     "output_type": "execute_result"
    }
   ],
   "source": [
    "word_search([[\"A\",\"B\",\"C\",\"E\"],[\"S\",\"F\",\"E\",\"S\"],[\"A\",\"D\",\"E\",\"E\"]],\n",
    "\"ABCESEEEFS\")"
   ]
  },
  {
   "cell_type": "markdown",
   "metadata": {},
   "source": [
    "# Max Increase to Keep City Skyline"
   ]
  },
  {
   "cell_type": "markdown",
   "metadata": {},
   "source": [
    "https://leetcode.com/problems/max-increase-to-keep-city-skyline/"
   ]
  },
  {
   "cell_type": "markdown",
   "metadata": {},
   "source": [
    "There is a city composed of n x n blocks, where each block contains a single building shaped like a vertical square prism. You are given a 0-indexed n x n integer matrix grid where grid[r][c] represents the height of the building located in the block at row r and column c.\n",
    "\n",
    "A city's skyline is the the outer contour formed by all the building when viewing the side of the city from a distance. The skyline from each cardinal direction north, east, south, and west may be different.\n",
    "\n",
    "We are allowed to increase the height of any number of buildings by any amount (the amount can be different per building). The height of a 0-height building can also be increased. However, increasing the height of a building should not affect the city's skyline from any cardinal direction.\n",
    "\n",
    "Return the maximum total sum that the height of the buildings can be increased by without changing the city's skyline from any cardinal direction."
   ]
  },
  {
   "cell_type": "code",
   "execution_count": 3,
   "metadata": {},
   "outputs": [],
   "source": [
    "def maxIncreaseKeepingSkyline(grid):\n",
    "    len_grid = len(grid)\n",
    "    max_in_rows = []\n",
    "    for i in grid:\n",
    "        max_in_rows.append(max(i))\n",
    "    max_in_columns = []\n",
    "    for i in list(zip(*grid)):\n",
    "        max_in_columns.append(max(i))\n",
    "    #print(max_in_rows, max_in_columns)\n",
    "    \n",
    "    total_increase = 0\n",
    "    for i in range(len_grid):\n",
    "        for j in range(len_grid):\n",
    "            if max_in_rows[i] <= max_in_columns[j]:\n",
    "                total_increase+=max_in_rows[i]-grid[i][j]\n",
    "            else:\n",
    "                 total_increase+=max_in_columns[j]-grid[i][j]\n",
    "    return total_increase"
   ]
  },
  {
   "cell_type": "code",
   "execution_count": 4,
   "metadata": {},
   "outputs": [
    {
     "data": {
      "text/plain": [
       "35"
      ]
     },
     "execution_count": 4,
     "metadata": {},
     "output_type": "execute_result"
    }
   ],
   "source": [
    "maxIncreaseKeepingSkyline(grid = [[3,0,8,4],[2,4,5,7],[9,2,6,3],[0,3,1,0]])"
   ]
  }
 ],
 "metadata": {
  "kernelspec": {
   "display_name": "Python 3",
   "language": "python",
   "name": "python3"
  },
  "language_info": {
   "codemirror_mode": {
    "name": "ipython",
    "version": 3
   },
   "file_extension": ".py",
   "mimetype": "text/x-python",
   "name": "python",
   "nbconvert_exporter": "python",
   "pygments_lexer": "ipython3",
   "version": "3.8.6"
  },
  "toc": {
   "base_numbering": 1,
   "nav_menu": {},
   "number_sections": true,
   "sideBar": true,
   "skip_h1_title": false,
   "title_cell": "Table of Contents",
   "title_sidebar": "Contents",
   "toc_cell": false,
   "toc_position": {},
   "toc_section_display": true,
   "toc_window_display": false
  }
 },
 "nbformat": 4,
 "nbformat_minor": 4
}
