{
 "cells": [
  {
   "cell_type": "markdown",
   "metadata": {},
   "source": [
    "# String Compression"
   ]
  },
  {
   "cell_type": "markdown",
   "metadata": {},
   "source": [
    "https://leetcode.com/problems/string-compression/"
   ]
  },
  {
   "cell_type": "markdown",
   "metadata": {},
   "source": [
    "Given an array of characters chars, compress it using the following algorithm:\n",
    "\n",
    "Begin with an empty string s. For each group of consecutive repeating characters in chars:\n",
    "\n",
    "If the group's length is 1, append the character to s.\n",
    "Otherwise, append the character followed by the group's length.\n",
    "The compressed string s should not be returned separately, but instead, be stored in the input character array chars. Note that group lengths that are 10 or longer will be split into multiple characters in chars.\n",
    "\n",
    "After you are done modifying the input array, return the new length of the array.\n",
    "\n",
    "You must write an algorithm that uses only constant extra space.  \n",
    "\n",
    "Input: chars = [\"a\",\"b\",\"b\",\"b\",\"b\",\"b\",\"b\",\"b\",\"b\",\"b\",\"b\",\"b\",\"b\"]  \n",
    "Output: Return 4, and the first 4 characters of the input array should be: [\"a\",\"b\",\"1\",\"2\"].  \n",
    "Explanation: The groups are \"a\" and \"bbbbbbbbbbbb\". This compresses to \"ab12\".  "
   ]
  },
  {
   "cell_type": "code",
   "execution_count": 4,
   "metadata": {},
   "outputs": [],
   "source": [
    "def compress(chars: list) -> int:\n",
    "    chars.append('')\n",
    "    len_chars = len(chars) #3\n",
    "    cnt_index = 0 #2\n",
    "    cnt_groups = 1 #2\n",
    "    for i in range(len_chars-1):\n",
    "        current_letter=chars[i]\n",
    "        if chars[i] == chars[i+1]:\n",
    "            cnt_groups += 1              \n",
    "        else:\n",
    "            if cnt_groups>1:\n",
    "                cnt_index += 1\n",
    "                chars[cnt_index-1] = current_letter\n",
    "                chars[cnt_index:cnt_index+len(list(str(cnt_groups)))] = list(str(cnt_groups))\n",
    "                cnt_index+=(len(list(str(cnt_groups))))\n",
    "            else:\n",
    "                chars[cnt_index] = current_letter\n",
    "                cnt_index +=1\n",
    "            cnt_groups = 1 \n",
    "    chars.pop(len_chars-1)\n",
    "    print(chars[:cnt_index])\n",
    "    return cnt_index"
   ]
  },
  {
   "cell_type": "code",
   "execution_count": 5,
   "metadata": {},
   "outputs": [
    {
     "name": "stdout",
     "output_type": "stream",
     "text": [
      "['a', '2', 'b', '2', 'c', '3']\n"
     ]
    },
    {
     "data": {
      "text/plain": [
       "6"
      ]
     },
     "execution_count": 5,
     "metadata": {},
     "output_type": "execute_result"
    }
   ],
   "source": [
    "chars = [\"a\",\"a\",\"b\",\"b\",\"c\",\"c\",\"c\"]\n",
    "compress(chars)"
   ]
  },
  {
   "cell_type": "markdown",
   "metadata": {},
   "source": [
    "# Longest Substring Without Repeating Characters"
   ]
  },
  {
   "cell_type": "markdown",
   "metadata": {},
   "source": [
    "https://leetcode.com/problems/longest-substring-without-repeating-characters/"
   ]
  },
  {
   "cell_type": "markdown",
   "metadata": {},
   "source": [
    "Given a string s, find the length of the longest substring without repeating characters.  \n",
    "  \n",
    "Input: s = \"abcabcbb\"  \n",
    "Output: 3  \n",
    "Explanation: The answer is \"abc\", with the length of 3.  \n",
    "    \n",
    "Input: s = \"pwwkew\"  \n",
    "Output: 3  \n",
    "Explanation: The answer is \"wke\", with the length of 3.  \n",
    "Notice that the answer must be a substring, \"pwke\" is a subsequence and not a substring.  "
   ]
  },
  {
   "cell_type": "code",
   "execution_count": 234,
   "metadata": {},
   "outputs": [],
   "source": [
    "def lengthOfLongestSubstring(s: str) -> int:\n",
    "    lengths_of_substring = []\n",
    "    if len(s) == 1:\n",
    "        return 1\n",
    "    cnt_lenght = 0\n",
    "    cnt_lenght_all =[]\n",
    "    dict_of_letters = {}\n",
    "    for ind in range(len(s)):\n",
    "        new_list = s[ind:]\n",
    "        for i in new_list:\n",
    "            if i not in dict_of_letters:\n",
    "                dict_of_letters[i]=1\n",
    "                cnt_lenght+=1\n",
    "            else:\n",
    "                dict_of_letters = {}\n",
    "                dict_of_letters[i]=1\n",
    "                cnt_lenght_all.append(cnt_lenght)\n",
    "                cnt_lenght = 1\n",
    "                break\n",
    "            cnt_lenght_all.append(cnt_lenght)\n",
    "        cnt_lenght = 0\n",
    "        dict_of_letters = {}\n",
    "    if cnt_lenght_all == []:\n",
    "        return 0\n",
    "    else:\n",
    "        return max(cnt_lenght_all)"
   ]
  },
  {
   "cell_type": "code",
   "execution_count": 251,
   "metadata": {},
   "outputs": [
    {
     "data": {
      "text/plain": [
       "6"
      ]
     },
     "execution_count": 251,
     "metadata": {},
     "output_type": "execute_result"
    }
   ],
   "source": [
    "lengthOfLongestSubstring(s)"
   ]
  }
 ],
 "metadata": {
  "kernelspec": {
   "display_name": "Python 3",
   "language": "python",
   "name": "python3"
  },
  "language_info": {
   "codemirror_mode": {
    "name": "ipython",
    "version": 3
   },
   "file_extension": ".py",
   "mimetype": "text/x-python",
   "name": "python",
   "nbconvert_exporter": "python",
   "pygments_lexer": "ipython3",
   "version": "3.8.6"
  },
  "toc": {
   "base_numbering": 1,
   "nav_menu": {},
   "number_sections": true,
   "sideBar": true,
   "skip_h1_title": false,
   "title_cell": "Table of Contents",
   "title_sidebar": "Contents",
   "toc_cell": false,
   "toc_position": {},
   "toc_section_display": true,
   "toc_window_display": false
  }
 },
 "nbformat": 4,
 "nbformat_minor": 4
}
