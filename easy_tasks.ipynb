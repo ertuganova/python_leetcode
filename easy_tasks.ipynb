{
 "cells": [
  {
   "cell_type": "markdown",
   "metadata": {},
   "source": [
    "# Valid palindrome"
   ]
  },
  {
   "cell_type": "markdown",
   "metadata": {},
   "source": [
    "https://leetcode.com/problems/valid-palindrome/"
   ]
  },
  {
   "cell_type": "markdown",
   "metadata": {},
   "source": [
    "Given a string s, determine if it is a palindrome, considering only alphanumeric characters and ignoring cases.\n",
    "\n",
    "Input: s = \"A man, a plan, a canal: Panama\"  \n",
    "Output: true  \n",
    "Explanation: \"amanaplanacanalpanama\" is a palindrome.  "
   ]
  },
  {
   "cell_type": "code",
   "execution_count": 7,
   "metadata": {},
   "outputs": [],
   "source": [
    "def isPalindrome(s: str) -> bool:\n",
    "    s_prep = list(''.join([i for i in s.lower() if i.isalnum()]))\n",
    "    len_s = len(s_prep)\n",
    "    end_ind = -1\n",
    "    for i in range(len_s//2):\n",
    "        if s_prep[i] != s_prep[end_ind]:\n",
    "            return False\n",
    "            break         \n",
    "        else:\n",
    "            end_ind-=1\n",
    "            pass\n",
    "    return True"
   ]
  },
  {
   "cell_type": "code",
   "execution_count": 8,
   "metadata": {},
   "outputs": [
    {
     "data": {
      "text/plain": [
       "False"
      ]
     },
     "execution_count": 8,
     "metadata": {},
     "output_type": "execute_result"
    }
   ],
   "source": [
    "s = \"race a car\"\n",
    "isPalindrome(s=s)"
   ]
  },
  {
   "cell_type": "markdown",
   "metadata": {},
   "source": [
    "#  Move Zeroes"
   ]
  },
  {
   "cell_type": "markdown",
   "metadata": {},
   "source": [
    "https://leetcode.com/problems/move-zeroes/"
   ]
  },
  {
   "cell_type": "markdown",
   "metadata": {},
   "source": [
    "Given an integer array nums, move all 0's to the end of it while maintaining the relative order of the non-zero elements.\n",
    "\n",
    "Note that you must do this in-place without making a copy of the array.\n",
    "\n",
    "Input: nums = [0,1,0,3,12]  \n",
    "Output: [1,3,12,0,0]  "
   ]
  },
  {
   "cell_type": "code",
   "execution_count": 11,
   "metadata": {},
   "outputs": [],
   "source": [
    "def moveZeroes(nums: list) -> None:\n",
    "    len_nums = len(nums)\n",
    "    to_pop = []\n",
    "    decrease_to_pop = 0\n",
    "    for i in range(len_nums):\n",
    "        if nums[i]==0:\n",
    "            to_pop.append(i-decrease_to_pop)\n",
    "            nums.append(0)\n",
    "            decrease_to_pop+=1\n",
    "    for i in to_pop:\n",
    "        del(nums[i])\n",
    "    \n",
    "    return nums"
   ]
  },
  {
   "cell_type": "code",
   "execution_count": 12,
   "metadata": {},
   "outputs": [
    {
     "data": {
      "text/plain": [
       "[7, 7, 9, 4, 9, 0]"
      ]
     },
     "execution_count": 12,
     "metadata": {},
     "output_type": "execute_result"
    }
   ],
   "source": [
    "s = [7, 7, 0, 9, 4, 9]\n",
    "moveZeroes(s)"
   ]
  },
  {
   "cell_type": "markdown",
   "metadata": {},
   "source": [
    "# Two Sum"
   ]
  },
  {
   "cell_type": "markdown",
   "metadata": {},
   "source": [
    "https://leetcode.com/problems/two-sum/"
   ]
  },
  {
   "cell_type": "markdown",
   "metadata": {},
   "source": [
    "Given an array of integers nums and an integer target, return indices of the two numbers such that they add up to target.\n",
    "\n",
    "You may assume that each input would have exactly one solution, and you may not use the same element twice.\n",
    "\n",
    "You can return the answer in any order.\n",
    "\n",
    "Input: nums = [2,7,11,15], target = 9  \n",
    "Output: [0,1]  \n",
    "Output: Because nums[0] + nums[1] == 9, we return [0, 1]."
   ]
  },
  {
   "cell_type": "code",
   "execution_count": 41,
   "metadata": {},
   "outputs": [],
   "source": [
    "# nums = [2,7,11,15]\n",
    "# target = 9\n",
    "nums = [3,2,4]\n",
    "target = 6"
   ]
  },
  {
   "cell_type": "code",
   "execution_count": 42,
   "metadata": {},
   "outputs": [],
   "source": [
    "def twoSum(nums: list, target: int) -> list:\n",
    "    res = []\n",
    "    for i in range(len(nums)):\n",
    "        res.append(target-nums[i])\n",
    "        if (nums[i] in res):\n",
    "            if i!=res.index(nums[i]):\n",
    "                return [i, res.index(nums[i])]"
   ]
  },
  {
   "cell_type": "code",
   "execution_count": 43,
   "metadata": {},
   "outputs": [
    {
     "data": {
      "text/plain": [
       "[2, 1]"
      ]
     },
     "execution_count": 43,
     "metadata": {},
     "output_type": "execute_result"
    }
   ],
   "source": [
    "twoSum(nums, target)"
   ]
  },
  {
   "cell_type": "markdown",
   "metadata": {},
   "source": [
    "# Reverse Integer"
   ]
  },
  {
   "cell_type": "markdown",
   "metadata": {},
   "source": [
    "Not interesting at all. Lesson: be more attentive"
   ]
  },
  {
   "cell_type": "markdown",
   "metadata": {},
   "source": [
    "https://leetcode.com/problems/reverse-integer/"
   ]
  },
  {
   "cell_type": "markdown",
   "metadata": {},
   "source": [
    "Given a signed 32-bit integer x, return x with its digits reversed. If reversing x causes the value to go outside the signed 32-bit integer range [-231, 231 - 1], then return 0.  \n",
    "\n",
    "Assume the environment does not allow you to store 64-bit integers (signed or unsigned).  \n",
    "Input: x = 123  \n",
    "Output: 321  \n",
    "\n",
    "Input: x = -123  \n",
    "Output: -321"
   ]
  },
  {
   "cell_type": "code",
   "execution_count": 95,
   "metadata": {},
   "outputs": [],
   "source": [
    "def reverse(x: int) -> int:      \n",
    "    x_list = [i for i in str(x)]\n",
    "    if x_list[0] == '-':\n",
    "        x_list = x_list[1:][::-1]\n",
    "        reverse_int = -int(''.join(x_list))\n",
    "        if (reverse_int <= (-2)**31) :\n",
    "            return 0\n",
    "        else:\n",
    "            return reverse_int\n",
    "    else:\n",
    "        x_list = x_list[::-1]\n",
    "        reverse_int = int(''.join(x_list))\n",
    "        if (reverse_int  >= (2**31-1)):\n",
    "            return 0\n",
    "        else:\n",
    "            return reverse_int"
   ]
  },
  {
   "cell_type": "code",
   "execution_count": 96,
   "metadata": {},
   "outputs": [
    {
     "data": {
      "text/plain": [
       "-654"
      ]
     },
     "execution_count": 96,
     "metadata": {},
     "output_type": "execute_result"
    }
   ],
   "source": [
    "reverse(-456)"
   ]
  },
  {
   "cell_type": "markdown",
   "metadata": {},
   "source": [
    "# Valid Parentheses"
   ]
  },
  {
   "cell_type": "markdown",
   "metadata": {},
   "source": [
    "https://leetcode.com/problems/valid-parentheses/"
   ]
  },
  {
   "cell_type": "markdown",
   "metadata": {},
   "source": [
    "Given a string s containing just the characters '(', ')', '{', '}', '[' and ']', determine if the input string is valid.  \n",
    "\n",
    "An input string is valid if:   \n",
    "\n",
    "Open brackets must be closed by the same type of brackets.  \n",
    "Open brackets must be closed in the correct order.  "
   ]
  },
  {
   "cell_type": "markdown",
   "metadata": {},
   "source": [
    "Input: s = \"()\"  \n",
    "Output: true  \n",
    "\n",
    "Input: s = \"([)]\"  \n",
    "Output: false"
   ]
  },
  {
   "cell_type": "code",
   "execution_count": 163,
   "metadata": {},
   "outputs": [],
   "source": [
    "def isValid(s: str) -> bool:\n",
    "    open_closed = {'(':')',\n",
    "                  '[':']',\n",
    "                  '{':'}',}\n",
    "    open_p = ['(', '[', '{']\n",
    "    opened_p = []\n",
    "    count_open = 0\n",
    "    count_close =0\n",
    "    for i in s:\n",
    "        if i in open_p:\n",
    "            opened_p.append(i)\n",
    "            count_open+=1\n",
    "        else:\n",
    "           # print(i)\n",
    "           # print(opened_p)\n",
    "            if opened_p == []:\n",
    "                return False\n",
    "            elif i!=open_closed[opened_p[-1]]:\n",
    "                return False\n",
    "            else:\n",
    "                opened_p.pop(-1)\n",
    "                count_close+=1\n",
    "    if count_close!=count_open:\n",
    "        return False\n",
    "    else:\n",
    "        return True        "
   ]
  },
  {
   "cell_type": "code",
   "execution_count": 153,
   "metadata": {},
   "outputs": [],
   "source": [
    "s = \"()[]{}\""
   ]
  },
  {
   "cell_type": "code",
   "execution_count": 164,
   "metadata": {},
   "outputs": [
    {
     "data": {
      "text/plain": [
       "True"
      ]
     },
     "execution_count": 164,
     "metadata": {},
     "output_type": "execute_result"
    }
   ],
   "source": [
    "isValid(s)"
   ]
  }
 ],
 "metadata": {
  "kernelspec": {
   "display_name": "Python 3",
   "language": "python",
   "name": "python3"
  },
  "language_info": {
   "codemirror_mode": {
    "name": "ipython",
    "version": 3
   },
   "file_extension": ".py",
   "mimetype": "text/x-python",
   "name": "python",
   "nbconvert_exporter": "python",
   "pygments_lexer": "ipython3",
   "version": "3.8.6"
  },
  "toc": {
   "base_numbering": 1,
   "nav_menu": {},
   "number_sections": true,
   "sideBar": true,
   "skip_h1_title": false,
   "title_cell": "Table of Contents",
   "title_sidebar": "Contents",
   "toc_cell": false,
   "toc_position": {},
   "toc_section_display": true,
   "toc_window_display": false
  }
 },
 "nbformat": 4,
 "nbformat_minor": 4
}
